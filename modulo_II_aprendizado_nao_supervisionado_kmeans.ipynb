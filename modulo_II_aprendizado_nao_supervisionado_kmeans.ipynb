{
  "nbformat": 4,
  "nbformat_minor": 0,
  "metadata": {
    "colab": {
      "provenance": [],
      "authorship_tag": "ABX9TyOEMFCjPB/sIDKrcD3t5ldF",
      "include_colab_link": true
    },
    "kernelspec": {
      "name": "python3",
      "display_name": "Python 3"
    },
    "language_info": {
      "name": "python"
    }
  },
  "cells": [
    {
      "cell_type": "markdown",
      "metadata": {
        "id": "view-in-github",
        "colab_type": "text"
      },
      "source": [
        "<a href=\"https://colab.research.google.com/github/prof-eduardo-galego/fiap-bpm-ia/blob/main/modulo_II_aprendizado_nao_supervisionado_kmeans.ipynb\" target=\"_parent\"><img src=\"https://colab.research.google.com/assets/colab-badge.svg\" alt=\"Open In Colab\"/></a>"
      ]
    },
    {
      "cell_type": "markdown",
      "source": [
        "# Módulo II: Aprendizado Não Supervisionado - Clusterização com KMeans\n",
        "\n",
        "Este notebook vamos conhecer o algoritmo KMeans, utilizado para agrupar dados semelhantes (chamados de __Cluster__).\n",
        "\n",
        "Este exemplo foi extraído de https://medium.com/programadores-ajudando-programadores/k-means-o-que-%C3%A9-como-funciona-aplica%C3%A7%C3%B5es-e-exemplo-em-python-6021df6e2572.\n",
        "\n",
        "## Biblioteca e Módulos\n",
        "\n",
        "Vamos utilizar a bilioteca __Scikit Learn__ para este exemplo. Segue código para carregá-la com os módulos que utilizaremos ao longo do notebook:"
      ],
      "metadata": {
        "id": "lua-_YBopKcI"
      }
    },
    {
      "cell_type": "code",
      "source": [
        "import numpy as np \n",
        "from matplotlib import pyplot as plt\n",
        "from sklearn.cluster import KMeans"
      ],
      "metadata": {
        "id": "uLxw8aB-pyXA"
      },
      "execution_count": 2,
      "outputs": []
    },
    {
      "cell_type": "markdown",
      "source": [
        "## Dados\n",
        "\n",
        "Para este cenário, vamos imaginar que precisamos definir qual a melhor posição geográfica para criar Centro de Distribuições, a partir de um conjunto de filiais espalhadas pelo Brasil.\n",
        "\n",
        "O conjunto de dados nos informam a posição geográfica de cada uma das lojas. Segue o código:"
      ],
      "metadata": {
        "id": "MSCyr8DFp6CX"
      }
    },
    {
      "cell_type": "code",
      "execution_count": 5,
      "metadata": {
        "colab": {
          "base_uri": "https://localhost:8080/",
          "height": 269
        },
        "id": "JhjnPIR5o0Oq",
        "outputId": "0f70e10b-3600-495b-df83-613fc8d4a1e5"
      },
      "outputs": [
        {
          "output_type": "display_data",
          "data": {
            "text/plain": [
              "<Figure size 432x288 with 1 Axes>"
            ],
            "image/png": "[encoded data removed]"
          },
          "metadata": {
            "needs_background": "light"
          }
        }
      ],
      "source": [
        "dataset = np.array([\n",
        "    [-25, -46], #são paulo\n",
        "    [-22, -43], #rio de janeiro\n",
        "    [-25, -49], #curitiba\n",
        "    [-30, -51], #porto alegre\n",
        "    [-19, -43], #belo horizonte\n",
        "    [-15, -47], #brasilia\n",
        "    [-12, -38], #salvador\n",
        "    [-8, -34], #recife\n",
        "    [-16, -49], #goiania\n",
        "    [-3, -60], #manaus\n",
        "    [-22, -47], #campinas\n",
        "    [-3, -38], #fortaleza\n",
        "    [-21, -47], #ribeirão preto\n",
        "    [-23, -51], #maringa\n",
        "    [-27, -48], #florianópolis\n",
        "    [-21, -43], #juiz de fora\n",
        "    [-1, -48], #belém\n",
        "    [-10, -67], #rio branco\n",
        "    [-8, -63] #porto velho\n",
        " ])\n",
        "\n",
        "plt.scatter(dataset[:,1], dataset[:,0])\n",
        "plt.xlim(-75, -30)\n",
        "plt.ylim(-50, 10)\n",
        "plt.grid()"
      ]
    },
    {
      "cell_type": "markdown",
      "source": [
        "## Construção do Modelo\n",
        "\n",
        "O código a seguir mostra a criação de um modelo KMeans: "
      ],
      "metadata": {
        "id": "rI5GvO6cqzlB"
      }
    },
    {
      "cell_type": "code",
      "source": [
        "kmeans = KMeans(n_clusters = 3,\n",
        "                init = 'k-means++', \n",
        "                n_init = 10,\n",
        "                max_iter = 300)\n",
        "\n",
        "pred_y = kmeans.fit_predict(dataset)"
      ],
      "metadata": {
        "id": "EIiB3dhdq2vZ"
      },
      "execution_count": 23,
      "outputs": []
    },
    {
      "cell_type": "markdown",
      "source": [
        "No código abaixo apresentamos o resultado obtido. Os pontos em vermelho representam os __Centróides__, ou seja, os pontos que representam o centro do nosso cluster.\n",
        "\n",
        "Neste exemplo, os Centróides representam os possíveis locais para a construção do Centro de Distribuições e os cluster seriam  as lojas atendidas. "
      ],
      "metadata": {
        "id": "onfcL_1CrwSY"
      }
    },
    {
      "cell_type": "code",
      "source": [
        "plt.scatter(dataset[:,1], dataset[:,0], c = pred_y)\n",
        "plt.xlim(-75, -30)\n",
        "plt.ylim(-50, 10)\n",
        "plt.grid()\n",
        "plt.scatter(kmeans.cluster_centers_[:,1],kmeans.cluster_centers_[:,0], s = 70, c = 'red')\n",
        "plt.show()"
      ],
      "metadata": {
        "colab": {
          "base_uri": "https://localhost:8080/",
          "height": 269
        },
        "id": "lHY3azZyrCeQ",
        "outputId": "de5e8930-d8ea-437d-8a5c-f5d798d4730a"
      },
      "execution_count": 24,
      "outputs": [
        {
          "output_type": "display_data",
          "data": {
            "text/plain": [
              "<Figure size 432x288 with 1 Axes>"
            ],
            "image/png": "[encoded data removed]"
          },
          "metadata": {
            "needs_background": "light"
          }
        }
      ]
    }
  ]
}